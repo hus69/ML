{
 "cells": [
  {
   "cell_type": "code",
   "execution_count": 20,
   "id": "5e8dbfdb-2f34-4a39-9f86-4cac788b8b98",
   "metadata": {},
   "outputs": [
    {
     "data": {
      "text/html": [
       "<div>\n",
       "<style scoped>\n",
       "    .dataframe tbody tr th:only-of-type {\n",
       "        vertical-align: middle;\n",
       "    }\n",
       "\n",
       "    .dataframe tbody tr th {\n",
       "        vertical-align: top;\n",
       "    }\n",
       "\n",
       "    .dataframe thead th {\n",
       "        text-align: right;\n",
       "    }\n",
       "</style>\n",
       "<table border=\"1\" class=\"dataframe\">\n",
       "  <thead>\n",
       "    <tr style=\"text-align: right;\">\n",
       "      <th></th>\n",
       "      <th>area</th>\n",
       "      <th>price</th>\n",
       "    </tr>\n",
       "  </thead>\n",
       "  <tbody>\n",
       "    <tr>\n",
       "      <th>0</th>\n",
       "      <td>2600</td>\n",
       "      <td>550000</td>\n",
       "    </tr>\n",
       "    <tr>\n",
       "      <th>1</th>\n",
       "      <td>2800</td>\n",
       "      <td>556000</td>\n",
       "    </tr>\n",
       "    <tr>\n",
       "      <th>2</th>\n",
       "      <td>3000</td>\n",
       "      <td>565000</td>\n",
       "    </tr>\n",
       "    <tr>\n",
       "      <th>3</th>\n",
       "      <td>3200</td>\n",
       "      <td>610000</td>\n",
       "    </tr>\n",
       "    <tr>\n",
       "      <th>4</th>\n",
       "      <td>3400</td>\n",
       "      <td>640000</td>\n",
       "    </tr>\n",
       "  </tbody>\n",
       "</table>\n",
       "</div>"
      ],
      "text/plain": [
       "   area   price\n",
       "0  2600  550000\n",
       "1  2800  556000\n",
       "2  3000  565000\n",
       "3  3200  610000\n",
       "4  3400  640000"
      ]
     },
     "execution_count": 20,
     "metadata": {},
     "output_type": "execute_result"
    }
   ],
   "source": [
    "import pandas as pd\n",
    "import numpy as np\n",
    "import matplotlib.pyplot as plt\n",
    "\n",
    "dt = pd.read_csv('houseprices.csv')\n",
    "dt.head()"
   ]
  },
  {
   "cell_type": "code",
   "execution_count": 2,
   "id": "fc529cfc-55da-4731-933b-97071e84a552",
   "metadata": {},
   "outputs": [],
   "source": [
    "def loss_function(m,b,points):\n",
    "    total_error = 0\n",
    "    for i in range(len(points)):\n",
    "        x = points.iloc[i].area\n",
    "        y = points.iloc[i].price\n",
    "        total_error += (y - (m*x + b)) ** 2\n",
    "        total_error/float(len(points))"
   ]
  },
  {
   "cell_type": "code",
   "execution_count": 7,
   "id": "1a340283-a6ee-4408-89aa-4c23f75ba8ca",
   "metadata": {},
   "outputs": [],
   "source": [
    "def g_d(m_n,b_n,points,L):\n",
    "    m_g = 0\n",
    "    b_g =0\n",
    "    n = len(points)\n",
    "    for i in range(n):\n",
    "     x = points.iloc[i].area\n",
    "     y = points.iloc[i].price\n",
    "\n",
    "     m_g += -(2/n)*x*(y-(m_n*x + b_n))\n",
    "     b_g += -(2/n)*(y-(m_n*x + b_n))\n",
    "\n",
    "     m = m_n - m_g*L\n",
    "     b = b_n - b_g*L\n",
    "     return m,b"
   ]
  },
  {
   "cell_type": "code",
   "execution_count": 8,
   "id": "7518d8d7-ef50-425d-8472-ffe341b2a410",
   "metadata": {},
   "outputs": [
    {
     "name": "stdout",
     "output_type": "stream",
     "text": [
      "-8.491902981596664e+210 -3.266116531383332e+207\n"
     ]
    }
   ],
   "source": [
    "m=0\n",
    "b=0\n",
    "L=0.0001\n",
    "epochs=100\n",
    "for i in range(epochs):\n",
    "    m,b = g_d(m,b,dt,L)\n",
    "\n",
    "print(m,b)"
   ]
  },
  {
   "cell_type": "code",
   "execution_count": 9,
   "id": "1ebba0fb-3151-46ed-8dc1-3484e708c162",
   "metadata": {},
   "outputs": [
    {
     "data": {
      "text/plain": [
       "<matplotlib.collections.PathCollection at 0x19558727f50>"
      ]
     },
     "execution_count": 9,
     "metadata": {},
     "output_type": "execute_result"
    },
    {
     "data": {
      "image/png": "[encoded data removed]",
      "text/plain": [
       "<Figure size 640x480 with 1 Axes>"
      ]
     },
     "metadata": {},
     "output_type": "display_data"
    }
   ],
   "source": [
    "plt.scatter(dt.area, dt.price, color=\"black\")"
   ]
  },
  {
   "cell_type": "code",
   "execution_count": 10,
   "id": "21693e8d-6486-4c97-bbe9-8a3906bfb1c6",
   "metadata": {},
   "outputs": [
    {
     "data": {
      "text/plain": [
       "5000"
      ]
     },
     "execution_count": 10,
     "metadata": {},
     "output_type": "execute_result"
    }
   ],
   "source": [
    "dt['area'].max()"
   ]
  },
  {
   "cell_type": "code",
   "execution_count": 11,
   "id": "c8521d2b-46ee-4ea1-9fb1-cd2ec8e5db63",
   "metadata": {},
   "outputs": [
    {
     "data": {
      "text/plain": [
       "2600"
      ]
     },
     "execution_count": 11,
     "metadata": {},
     "output_type": "execute_result"
    }
   ],
   "source": [
    "dt['area'].min()"
   ]
  },
  {
   "cell_type": "code",
   "execution_count": 12,
   "id": "391972a8-6316-4d05-8a46-5678e225ab8c",
   "metadata": {},
   "outputs": [
    {
     "data": {
      "text/plain": [
       "800000"
      ]
     },
     "execution_count": 12,
     "metadata": {},
     "output_type": "execute_result"
    }
   ],
   "source": [
    "dt['price'].max()"
   ]
  },
  {
   "cell_type": "code",
   "execution_count": 13,
   "id": "24e78cac-fdaf-4e83-a17c-f602a0b532d6",
   "metadata": {},
   "outputs": [
    {
     "data": {
      "text/plain": [
       "550000"
      ]
     },
     "execution_count": 13,
     "metadata": {},
     "output_type": "execute_result"
    }
   ],
   "source": [
    "dt['price'].min()"
   ]
  },
  {
   "cell_type": "code",
   "execution_count": 22,
   "id": "40b52478-ce28-401f-9ffe-c69f592b0d89",
   "metadata": {},
   "outputs": [
    {
     "data": {
      "image/png": "[encoded data removed]",
      "text/plain": [
       "<Figure size 640x480 with 1 Axes>"
      ]
     },
     "metadata": {},
     "output_type": "display_data"
    }
   ],
   "source": [
    "x = np.linspace(2000,5500)\n",
    "y = m*x+b\n",
    "plt.plot(x, y, '-r', label='Best Fit Line')\n",
    "plt.legend(loc='upper left')\n",
    "plt.title('Graph of Best fit line')\n",
    "plt.xlabel('area')\n",
    "plt.ylabel('price')\n",
    "plt.scatter(dt.area,dt.price,color='red',marker='+')\n",
    "plt.grid()\n",
    "plt.show()"
   ]
  },
  {
   "cell_type": "code",
   "execution_count": null,
   "id": "1534014b-635d-4c2c-8770-912bf3957031",
   "metadata": {},
   "outputs": [],
   "source": []
  }
 ],
 "metadata": {
  "kernelspec": {
   "display_name": "Python 3 (ipykernel)",
   "language": "python",
   "name": "python3"
  },
  "language_info": {
   "codemirror_mode": {
    "name": "ipython",
    "version": 3
   },
   "file_extension": ".py",
   "mimetype": "text/x-python",
   "name": "python",
   "nbconvert_exporter": "python",
   "pygments_lexer": "ipython3",
   "version": "3.11.5"
  }
 },
 "nbformat": 4,
 "nbformat_minor": 5
}
